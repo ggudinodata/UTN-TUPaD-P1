{
 "cells": [
  {
   "cell_type": "markdown",
   "id": "bdb2e26b",
   "metadata": {},
   "source": [
    "1- Crear una función llamada imprimir_hola_mundo que imprima por\n",
    "pantalla el mensaje: “Hola Mundo!”. Llamar a esta función desde el\n",
    "programa principal."
   ]
  },
  {
   "cell_type": "code",
   "execution_count": 1,
   "id": "4e68c2b2",
   "metadata": {},
   "outputs": [
    {
     "name": "stdout",
     "output_type": "stream",
     "text": [
      "Hola mundo!\n"
     ]
    }
   ],
   "source": [
    "# Definicion de funciones\n",
    "def imprimir_hola_mundo():\n",
    "    return print(\"Hola mundo!\")\n",
    "\n",
    "# Programa principal\n",
    "imprimir_hola_mundo()"
   ]
  },
  {
   "cell_type": "markdown",
   "id": "19300a6d",
   "metadata": {},
   "source": [
    "2- Crear una función llamada saludar_usuario(nombre) que reciba\n",
    "como parámetro un nombre y devuelva un saludo personalizado.\n",
    "Por ejemplo, si se llama con saludar_usuario(\"Marcos\"), deberá devolver:\n",
    "“Hola Marcos!”. Llamar a esta función desde el programa\n",
    "principal solicitando el nombre al usuario."
   ]
  },
  {
   "cell_type": "code",
   "execution_count": 2,
   "id": "fd11b33b",
   "metadata": {},
   "outputs": [
    {
     "name": "stdout",
     "output_type": "stream",
     "text": [
      "Hola Gabriel!\n"
     ]
    }
   ],
   "source": [
    "# Definicion de funciones\n",
    "def saludar_usuario(nombre):\n",
    "    return print(f\"Hola {nombre}!\")\n",
    "\n",
    "# Programa principal\n",
    "saludar_usuario(\"Gabriel\")"
   ]
  },
  {
   "cell_type": "markdown",
   "id": "1896dc7a",
   "metadata": {},
   "source": [
    "3- Crear una función llamada informacion_personal(nombre, apellido,\n",
    "edad, residencia) que reciba cuatro parámetros e imprima: “Soy\n",
    "[nombre] [apellido], tengo [edad] años y vivo en [residencia]”. Pedir\n",
    "los datos al usuario y llamar a esta función con los valores ingresados."
   ]
  },
  {
   "cell_type": "code",
   "execution_count": 6,
   "id": "cc13d740",
   "metadata": {},
   "outputs": [
    {
     "name": "stdout",
     "output_type": "stream",
     "text": [
      "Soy Gabriel Gudino, tengo 40 años y vivo en Lanús Oeste.\n"
     ]
    }
   ],
   "source": [
    "# Definicion de funciones\n",
    "def informacion_personal(nombre, apellido, edad, residencia):\n",
    "    return print(f\"Soy {nombre} {apellido}, tengo {edad} años y vivo en {residencia}.\")\n",
    "\n",
    "# Programa principal\n",
    "informacion_personal(\"Gabriel\", \"Gudino\", \"40\", \"Lanús Oeste\")"
   ]
  },
  {
   "cell_type": "markdown",
   "id": "86d06d69",
   "metadata": {},
   "source": [
    "4- Crear dos funciones: calcular_area_circulo(radio) que reciba el radio\n",
    "como parámetro y devuelva el área del círculo. calcular_perimetro_\n",
    "circulo(radio) que reciba el radio como parámetro y devuelva\n",
    "el perímetro del círculo. Solicitar el radio al usuario y llamar ambas\n",
    "funciones para mostrar los resultados."
   ]
  },
  {
   "cell_type": "code",
   "execution_count": 10,
   "id": "7b1ac252",
   "metadata": {},
   "outputs": [
    {
     "name": "stdout",
     "output_type": "stream",
     "text": [
      "18.84955592153876\n",
      "25.132741228718345\n"
     ]
    }
   ],
   "source": [
    "from math import pi\n",
    "# Definicion de funciones\n",
    "def calcular_area_circulo(radio):\n",
    "    area = pi * (radio ^ 2)\n",
    "    return print(area)\n",
    "def calcular_perimetro_circulo(radio):\n",
    "    perimetro = 2 * pi * radio\n",
    "    return print(perimetro)\n",
    "\n",
    "# Programa principal\n",
    "calcular_area_circulo(4)\n",
    "calcular_perimetro_circulo(4)"
   ]
  },
  {
   "cell_type": "markdown",
   "id": "6072bc93",
   "metadata": {},
   "source": [
    "5- Crear una función llamada segundos_a_horas(segundos) que reciba\n",
    "una cantidad de segundos como parámetro y devuelva la cantidad\n",
    "de horas correspondientes. Solicitar al usuario los segundos y mostrar\n",
    "el resultado usando esta función."
   ]
  },
  {
   "cell_type": "code",
   "execution_count": 13,
   "id": "5114d490",
   "metadata": {},
   "outputs": [
    {
     "data": {
      "text/plain": [
       "3.3333333333333335"
      ]
     },
     "execution_count": 13,
     "metadata": {},
     "output_type": "execute_result"
    }
   ],
   "source": [
    "# Definicion de funciones\n",
    "def segundos_a_horas(segundos):\n",
    "    return (segundos/60)/60\n",
    "\n",
    "# Programa principal\n",
    "segundos_a_horas(12000)"
   ]
  },
  {
   "cell_type": "markdown",
   "id": "d04a0752",
   "metadata": {},
   "source": [
    "6- Crear una función llamada tabla_multiplicar(numero) que reciba un\n",
    "número como parámetro y imprima la tabla de multiplicar de ese\n",
    "número del 1 al 10. Pedir al usuario el número y llamar a la función."
   ]
  },
  {
   "cell_type": "code",
   "execution_count": 17,
   "id": "cf94b2c1",
   "metadata": {},
   "outputs": [
    {
     "name": "stdout",
     "output_type": "stream",
     "text": [
      "0 * 3 = 0\n",
      "1 * 3 = 3\n",
      "2 * 3 = 6\n",
      "3 * 3 = 9\n",
      "4 * 3 = 12\n",
      "5 * 3 = 15\n",
      "6 * 3 = 18\n",
      "7 * 3 = 21\n",
      "8 * 3 = 24\n",
      "9 * 3 = 27\n",
      "10 * 3 = 30\n"
     ]
    }
   ],
   "source": [
    "# Definicion de funciones\n",
    "def tabla_multiplicar(numero):\n",
    "    for i in range(11):\n",
    "        print(f\"{i} * {numero} = {i * numero}\")\n",
    "        \n",
    "# Programa principal\n",
    "tabla_multiplicar(3)"
   ]
  },
  {
   "cell_type": "markdown",
   "id": "ae47464b",
   "metadata": {},
   "source": [
    "7- Crear una función llamada operaciones_basicas(a, b) que reciba\n",
    "dos números como parámetros y devuelva una tupla con el resultado\n",
    "de sumarlos, restarlos, multiplicarlos y dividirlos. Mostrar los resultados\n",
    "de forma clara."
   ]
  },
  {
   "cell_type": "code",
   "execution_count": 20,
   "id": "ca4803b5",
   "metadata": {},
   "outputs": [
    {
     "data": {
      "text/plain": [
       "('15+4=19', '15-4=11', '15*4=60', '15/4=3.75')"
      ]
     },
     "execution_count": 20,
     "metadata": {},
     "output_type": "execute_result"
    }
   ],
   "source": [
    "# Definicion de funciones\n",
    "def operaciones_basicas(a,b):\n",
    "    return (f\"{a}+{b}={a+b}\", f\"{a}-{b}={a-b}\", f\"{a}*{b}={a*b}\", f\"{a}/{b}={a/b}\")\n",
    "\n",
    "# Programa principal\n",
    "operaciones_basicas(15, 4)"
   ]
  },
  {
   "cell_type": "markdown",
   "id": "4999fb6f",
   "metadata": {},
   "source": [
    "8-Crear una función llamada calcular_imc(peso, altura) que reciba el\n",
    "peso en kilogramos y la altura en metros, y devuelva el índice de\n",
    "masa corporal (IMC). Solicitar al usuario los datos y llamar a la función\n",
    "para mostrar el resultado con dos decimales."
   ]
  },
  {
   "cell_type": "code",
   "execution_count": 24,
   "id": "a45e09df",
   "metadata": {},
   "outputs": [
    {
     "data": {
      "text/plain": [
       "27.343749999999996"
      ]
     },
     "execution_count": 24,
     "metadata": {},
     "output_type": "execute_result"
    }
   ],
   "source": [
    "# Definicion de funciones\n",
    "def calcular_imc(peso, altura):\n",
    "    return peso/(altura ** 2)\n",
    "\n",
    "# Programa principal\n",
    "peso = float(input(\"Ingrese su peso (kg): \"))\n",
    "altura = float(input(\"Ingrese su estatrua (m): \"))\n",
    "\n",
    "calcular_imc(peso, altura)"
   ]
  },
  {
   "cell_type": "markdown",
   "id": "e07050c8",
   "metadata": {},
   "source": [
    "9-Crear una función llamada celsius_a_fahrenheit(celsius) que reciba\n",
    "una temperatura en grados Celsius y devuelva su equivalente en\n",
    "Fahrenheit. Pedir al usuario la temperatura en Celsius y mostrar el\n",
    "resultado usando la función."
   ]
  },
  {
   "cell_type": "code",
   "execution_count": 26,
   "id": "7a52065b",
   "metadata": {},
   "outputs": [
    {
     "data": {
      "text/plain": [
       "89.6"
      ]
     },
     "execution_count": 26,
     "metadata": {},
     "output_type": "execute_result"
    }
   ],
   "source": [
    "# Definicion de funciones\n",
    "def celsius_a_fahrenheit(celsius):\n",
    "    return (celsius * 9/5) + 32\n",
    "\n",
    "# Programa principal\n",
    "celsius = float(input(\"Ingrese la temperatura en grados Celsius: \"))\n",
    "celsius_a_fahrenheit(celsius)"
   ]
  },
  {
   "cell_type": "markdown",
   "id": "820d815a",
   "metadata": {},
   "source": [
    "10-Crear una función llamada calcular_promedio(a, b, c) que reciba\n",
    "tres números como parámetros y devuelva el promedio de ellos.\n",
    "Solicitar los números al usuario y mostrar el resultado usando esta\n",
    "función."
   ]
  },
  {
   "cell_type": "code",
   "execution_count": 27,
   "id": "fe4e88a5",
   "metadata": {},
   "outputs": [
    {
     "data": {
      "text/plain": [
       "7.333333333333333"
      ]
     },
     "execution_count": 27,
     "metadata": {},
     "output_type": "execute_result"
    }
   ],
   "source": [
    "# Definicion de funciones\n",
    "def calcular_promedio(a, b, c):\n",
    "    return (a + b + c) / 3\n",
    "\n",
    "# Programa principal\n",
    "a = float(input(\"Ingrese un número: \"))\n",
    "b = float(input(\"Ingrese un segundo número: \"))\n",
    "c = float(input(\"Ingrese un tercer número: \"))\n",
    "\n",
    "calcular_promedio(a,b,c)"
   ]
  }
 ],
 "metadata": {
  "kernelspec": {
   "display_name": "venv",
   "language": "python",
   "name": "python3"
  },
  "language_info": {
   "codemirror_mode": {
    "name": "ipython",
    "version": 3
   },
   "file_extension": ".py",
   "mimetype": "text/x-python",
   "name": "python",
   "nbconvert_exporter": "python",
   "pygments_lexer": "ipython3",
   "version": "3.10.12"
  }
 },
 "nbformat": 4,
 "nbformat_minor": 5
}
