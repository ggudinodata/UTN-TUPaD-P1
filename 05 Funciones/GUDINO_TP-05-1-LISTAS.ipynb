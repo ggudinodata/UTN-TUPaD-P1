{
 "cells": [
  {
   "cell_type": "markdown",
   "id": "cea10ea2",
   "metadata": {},
   "source": [
    "# TP 5.1 Listas"
   ]
  },
  {
   "cell_type": "markdown",
   "id": "c9ebdaac",
   "metadata": {},
   "source": [
    "1) Crear una lista con los números del 1 al 100 que sean múltiplos de 4. Utilizar la función range."
   ]
  },
  {
   "cell_type": "code",
   "execution_count": 1,
   "id": "ffacf7b9",
   "metadata": {},
   "outputs": [
    {
     "name": "stdout",
     "output_type": "stream",
     "text": [
      "[1, 2, 3, 4, 5, 6, 7, 8, 9, 10, 11, 12, 13, 14, 15, 16, 17, 18, 19, 20, 21, 22, 23, 24, 25, 26, 27, 28, 29, 30, 31, 32, 33, 34, 35, 36, 37, 38, 39, 40, 41, 42, 43, 44, 45, 46, 47, 48, 49, 50, 51, 52, 53, 54, 55, 56, 57, 58, 59, 60, 61, 62, 63, 64, 65, 66, 67, 68, 69, 70, 71, 72, 73, 74, 75, 76, 77, 78, 79, 80, 81, 82, 83, 84, 85, 86, 87, 88, 89, 90, 91, 92, 93, 94, 95, 96, 97, 98, 99, 100]\n"
     ]
    }
   ],
   "source": [
    "ej_1 = list(range(1,101))\n",
    "print(ej_1)"
   ]
  },
  {
   "cell_type": "markdown",
   "id": "42977eb8",
   "metadata": {},
   "source": [
    "2) Crear una lista con cinco elementos (colocar los elementos que más te gusten) y mostrar el penúltimo. ¡Puedes hacerlo como se muestra en los videos o bien investigar cómo funciona el indexing con números negativos!"
   ]
  },
  {
   "cell_type": "code",
   "execution_count": 6,
   "id": "a3bf4a35",
   "metadata": {},
   "outputs": [
    {
     "name": "stdout",
     "output_type": "stream",
     "text": [
      "[15, 16, 17, 18, 19]\n",
      "18\n"
     ]
    }
   ],
   "source": [
    "ej_2 = list(range(15,20))\n",
    "print(ej_2)\n",
    "print(ej_2[-2])"
   ]
  },
  {
   "cell_type": "markdown",
   "id": "799a302c",
   "metadata": {},
   "source": [
    "3) Crear una lista vacía, agregar tres palabras con append e imprimir la lista resultante por pantalla. Pista: para crear una lista vacía debes colocar los corchetes sin nada en su interior. Por ejemplo: \n",
    "```python\n",
    "lista_vacia = []\n",
    "```"
   ]
  },
  {
   "cell_type": "code",
   "execution_count": 7,
   "id": "d4996b19",
   "metadata": {},
   "outputs": [
    {
     "name": "stdout",
     "output_type": "stream",
     "text": [
      "['Buenos', 'Dias', 'Argentina']\n"
     ]
    }
   ],
   "source": [
    "ej_3 = []\n",
    "ej_3.append(\"Buenos\")\n",
    "ej_3.append(\"Dias\")\n",
    "ej_3.append(\"Argentina\")\n",
    "print(ej_3)"
   ]
  },
  {
   "cell_type": "markdown",
   "id": "fcfdada3",
   "metadata": {},
   "source": [
    "4) Reemplazar el segundo y último valor de la lista “animales” con las palabras “loro” y “oso”, respectivamente. Imprimir la lista resultante por pantalla. ¡Puedes hacerlo como se muestra en los videos o bien investigar cómo funciona el indexing con números negativos! \n",
    "```python\n",
    "animales = [\"perro\", \"gato\", \"conejo\", \"pez\"]\n",
    "```"
   ]
  },
  {
   "cell_type": "code",
   "execution_count": 16,
   "id": "031806bc",
   "metadata": {},
   "outputs": [
    {
     "name": "stdout",
     "output_type": "stream",
     "text": [
      "['perro', 'loro', 'conejo', 'oso']\n"
     ]
    }
   ],
   "source": [
    "animales = [\"perro\", \"gato\", \"conejo\", \"pez\"]\n",
    "\n",
    "animales[1] = \"loro\"\n",
    "animales[-1] = \"oso\"\n",
    "print(animales)"
   ]
  },
  {
   "cell_type": "markdown",
   "id": "d4a337b2",
   "metadata": {},
   "source": [
    "5) Analizar el siguiente programa y explicar con tus palabras qué es lo que realiza.\n",
    "```python\n",
    "numeros = [8, 15, 3, 22, 7]\n",
    "numeros.remove(max(numeros))\n",
    "print(numeros)\n",
    "```"
   ]
  },
  {
   "cell_type": "markdown",
   "id": "774de1b4",
   "metadata": {},
   "source": [
    "RESPUESTA: Este programa lo que primero realiza es buscar el valor máximo dentro de la lista \"numeros\" y luego se le aplica el método .remove() a la misma lista, lo que hace es borrar el valor máximo que es 22."
   ]
  },
  {
   "cell_type": "markdown",
   "id": "609c97a6",
   "metadata": {},
   "source": [
    "6) Crear una lista con números del 10 al 30 (incluído), haciendo saltos de 5 en 5 y mostrar por pantalla los dos primeros."
   ]
  },
  {
   "cell_type": "code",
   "execution_count": 19,
   "id": "65247a08",
   "metadata": {},
   "outputs": [
    {
     "name": "stdout",
     "output_type": "stream",
     "text": [
      "[10, 15]\n"
     ]
    }
   ],
   "source": [
    "ej_6 = list(range(10,31,5))\n",
    "print(ej_6[:2])"
   ]
  },
  {
   "cell_type": "markdown",
   "id": "f960763c",
   "metadata": {},
   "source": [
    "7) Reemplazar los dos valores centrales (índices 1 y 2) de la lista “autos” por dos nuevos valores cualesquiera. \n",
    "```python\n",
    "autos = [\"sedan\", \"polo\", \"suran\", \"gol\"]\n",
    "```"
   ]
  },
  {
   "cell_type": "code",
   "execution_count": 20,
   "id": "3bc8dc77",
   "metadata": {},
   "outputs": [
    {
     "name": "stdout",
     "output_type": "stream",
     "text": [
      "['sedan', 'Amarok', 'Twingo', 'gol']\n"
     ]
    }
   ],
   "source": [
    "autos = [\"sedan\", \"polo\", \"suran\", \"gol\"]\n",
    "\n",
    "autos[1:3] = [\"Amarok\", \"Twingo\"]\n",
    "print(autos)"
   ]
  },
  {
   "cell_type": "markdown",
   "id": "f56ac697",
   "metadata": {},
   "source": [
    "8) Crear una lista vacía llamada \"dobles\" y agregar el doble de 5, 10 y 15 usando append directamente. Imprimir la lista resultante por pantalla."
   ]
  },
  {
   "cell_type": "code",
   "execution_count": 27,
   "id": "a2a9faff",
   "metadata": {},
   "outputs": [
    {
     "name": "stdout",
     "output_type": "stream",
     "text": [
      "[10, 20, 30]\n"
     ]
    }
   ],
   "source": [
    "dobles = []\n",
    "originales = [5, 10, 15]\n",
    "\n",
    "for i in range(len(originales)):\n",
    "    dobles.append(originales[i] * 2)\n",
    "    \n",
    "print(dobles)"
   ]
  },
  {
   "cell_type": "markdown",
   "id": "e50de82a",
   "metadata": {},
   "source": [
    "9) Dada la lista “compras”, cuyos elementos representan los productos comprados por diferentes clientes:\n",
    "```python\n",
    "compras = [[\"pan\", \"leche\"], [\"arroz\", \"fideos\", \"salsa\"], [\"agua\"]]\n",
    "```\n",
    "\n",
    "    a) Agregar \"jugo\" a la lista del tercer cliente usando append.\n",
    "    b) Reemplazar \"fideos\" por \"tallarines\" en la lista del segundo cliente.\n",
    "    c) Eliminar \"pan\" de la lista del primer cliente.\n",
    "    d) Imprimir la lista resultante por pantalla"
   ]
  },
  {
   "cell_type": "code",
   "execution_count": 31,
   "id": "64a46138",
   "metadata": {},
   "outputs": [
    {
     "name": "stdout",
     "output_type": "stream",
     "text": [
      "[['leche'], ['arroz', 'tallarines', 'salsa'], ['agua', 'jugo']]\n"
     ]
    }
   ],
   "source": [
    "compras = [[\"pan\", \"leche\"], [\"arroz\", \"fideos\", \"salsa\"], [\"agua\"]]\n",
    "\n",
    "compras[2].append(\"jugo\")\n",
    "compras[1][1] = \"tallarines\"\n",
    "compras[0].remove(\"pan\")\n",
    "\n",
    "print(compras)"
   ]
  },
  {
   "cell_type": "markdown",
   "id": "cb31c989",
   "metadata": {},
   "source": [
    "10) Elaborar una lista anidada llamada “lista_anidada” que contenga los siguientes elementos:\n",
    "* Posición\n",
    "```python\n",
    "lista_anidada[0]: 15 \n",
    "```\n",
    "* Posición\n",
    "```python\n",
    "lista_anidada[1]: True\n",
    "```\n",
    "* Posición\n",
    "```python\n",
    "lista_anidada[2][0]: 25.5\n",
    "```\n",
    "* Posición\n",
    "```python\n",
    "lista_anidada[2][1]: 57.9\n",
    "```\n",
    "* Posición\n",
    "```python\n",
    "lista_anidada[2][2]: 30.6\n",
    "```\n",
    "* Posición\n",
    "```python\n",
    "lista_anidada[3]: False\n",
    "```\n",
    "\n",
    "Imprimir la lista resultante por pantalla."
   ]
  },
  {
   "cell_type": "code",
   "execution_count": 33,
   "id": "62439c93",
   "metadata": {},
   "outputs": [
    {
     "name": "stdout",
     "output_type": "stream",
     "text": [
      "[15, True, [25.5, 57.9, 30.6], False]\n"
     ]
    }
   ],
   "source": [
    "# Opción 1\n",
    "lista_anidada = [15, True, [25.5, 57.9, 30.6], False]\n",
    "print(lista_anidada)"
   ]
  },
  {
   "cell_type": "code",
   "execution_count": 38,
   "id": "cb77a267",
   "metadata": {},
   "outputs": [
    {
     "name": "stdout",
     "output_type": "stream",
     "text": [
      "[15, True, [25.5, 57.9, 30.6], False]\n"
     ]
    }
   ],
   "source": [
    "# Opción 2\n",
    "lista_anidada2 = []\n",
    "\n",
    "lista_anidada2.append(15) \n",
    "lista_anidada2.append(True)\n",
    "lista_anidada2.append([25.5, 57.9, 30.6])\n",
    "lista_anidada2.append(False)\n",
    "\n",
    "print(lista_anidada2)\n"
   ]
  }
 ],
 "metadata": {
  "kernelspec": {
   "display_name": "venv",
   "language": "python",
   "name": "python3"
  },
  "language_info": {
   "codemirror_mode": {
    "name": "ipython",
    "version": 3
   },
   "file_extension": ".py",
   "mimetype": "text/x-python",
   "name": "python",
   "nbconvert_exporter": "python",
   "pygments_lexer": "ipython3",
   "version": "3.10.12"
  }
 },
 "nbformat": 4,
 "nbformat_minor": 5
}
