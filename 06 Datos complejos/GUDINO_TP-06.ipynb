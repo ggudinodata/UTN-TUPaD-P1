{
 "cells": [
  {
   "cell_type": "markdown",
   "id": "20e77be2",
   "metadata": {},
   "source": [
    "1) Dado el diccionario precios_frutas \n",
    "```Python\n",
    "precios_frutas = {'Banana': 1200, 'Ananá': 2500, 'Melón': 3000, 'Uva': 1450} \n",
    "```\n",
    "Añadir las siguientes frutas con sus respectivos precios:\n",
    "* Naranja = 1200\n",
    "* Manzana = 1500\n",
    "* Pera = 2300"
   ]
  },
  {
   "cell_type": "code",
   "execution_count": 4,
   "id": "baff9e80",
   "metadata": {},
   "outputs": [
    {
     "data": {
      "text/plain": [
       "{'Banana': 1200,\n",
       " 'Ananá': 2500,\n",
       " 'Melón': 3000,\n",
       " 'Uva': 1450,\n",
       " 'Naranja': 1200,\n",
       " 'Manzana': 1500,\n",
       " 'Pera': 2300}"
      ]
     },
     "execution_count": 4,
     "metadata": {},
     "output_type": "execute_result"
    }
   ],
   "source": [
    "precios_frutas = {'Banana': 1200, 'Ananá': 2500, 'Melón': 3000, 'Uva': 1450} \n",
    "\n",
    "precios_frutas[\"Naranja\"] = 1200\n",
    "precios_frutas[\"Manzana\"] = 1500\n",
    "precios_frutas[\"Pera\"] = 2300\n",
    "precios_frutas"
   ]
  },
  {
   "cell_type": "markdown",
   "id": "650ba2fa",
   "metadata": {},
   "source": [
    "2) Siguiendo con el diccionario precios_frutas que resulta luego de ejecutar el código desarrollado en el punto anterior, actualizar los precios de las siguientes frutas:\n",
    "* Banana = 1330\n",
    "* Manzana = 1700\n",
    "* Melón = 2800"
   ]
  },
  {
   "cell_type": "code",
   "execution_count": 5,
   "id": "c7c3a2d7",
   "metadata": {},
   "outputs": [
    {
     "data": {
      "text/plain": [
       "{'Banana': 1330,\n",
       " 'Ananá': 2500,\n",
       " 'Melón': 2800,\n",
       " 'Uva': 1450,\n",
       " 'Naranja': 1200,\n",
       " 'Manzana': 1700,\n",
       " 'Pera': 2300}"
      ]
     },
     "execution_count": 5,
     "metadata": {},
     "output_type": "execute_result"
    }
   ],
   "source": [
    "precios_frutas[\"Banana\"] = 1330\n",
    "precios_frutas[\"Manzana\"] = 1700\n",
    "precios_frutas[\"Melón\"] = 2800\n",
    "precios_frutas"
   ]
  },
  {
   "cell_type": "markdown",
   "id": "00c23329",
   "metadata": {},
   "source": [
    "3) Siguiendo con el diccionario precios_frutas que resulta luego de ejecutar el código desarrollado en el punto anterior, crear una lista que contenga únicamente las frutas sin los precios."
   ]
  },
  {
   "cell_type": "code",
   "execution_count": 7,
   "id": "d920cae1",
   "metadata": {},
   "outputs": [
    {
     "data": {
      "text/plain": [
       "['Banana', 'Ananá', 'Melón', 'Uva', 'Naranja', 'Manzana', 'Pera']"
      ]
     },
     "execution_count": 7,
     "metadata": {},
     "output_type": "execute_result"
    }
   ],
   "source": [
    "lista_frutas = list(precios_frutas.keys())\n",
    "lista_frutas"
   ]
  },
  {
   "cell_type": "markdown",
   "id": "41e4ec10",
   "metadata": {},
   "source": [
    "4) Escribí un programa que permita almacenar y consultar números telefónicos.\n",
    "* Permití al usuario cargar 5 contactos con su nombre como clave y número como valor.\n",
    "* Luego, pedí un nombre y mostrale el número asociado, si existe."
   ]
  },
  {
   "cell_type": "code",
   "execution_count": 8,
   "id": "cd7b8b4b",
   "metadata": {},
   "outputs": [
    {
     "name": "stdout",
     "output_type": "stream",
     "text": [
      "4594392323\n"
     ]
    }
   ],
   "source": [
    "agenda = {}\n",
    "\n",
    "for i in range(5):\n",
    "    nombre = input(\"Ingrese el nombre de su contacto: \")\n",
    "    numero = int(input(\"Ingrese el número: \"))\n",
    "    agenda[nombre] = numero\n",
    "    \n",
    "pedido = input(\"Ingrese el nombre del que necesita el telefono: \")\n",
    "print(agenda[nombre])"
   ]
  },
  {
   "cell_type": "code",
   "execution_count": 9,
   "id": "7d241fab",
   "metadata": {},
   "outputs": [
    {
     "name": "stdout",
     "output_type": "stream",
     "text": [
      "{'Pedro': 115932342, 'Juan': 234583424, 'Luciano': 2399548334, 'Domingo': 3243242342, 'Julio': 4594392323}\n"
     ]
    }
   ],
   "source": [
    "print(agenda)"
   ]
  },
  {
   "cell_type": "markdown",
   "id": "ca7e88b9",
   "metadata": {},
   "source": [
    "5) Solicita al usuario una frase e imprime:\n",
    "* Las palabras únicas (usando un set).\n",
    "* Un diccionario con la cantidad de veces que aparece cada palabra."
   ]
  },
  {
   "cell_type": "code",
   "execution_count": 21,
   "id": "f47ab16f",
   "metadata": {},
   "outputs": [
    {
     "name": "stdout",
     "output_type": "stream",
     "text": [
      "['buenos', 'dias', 'dias', 'buenos', 'muy', 'buenos', 'seran', 'estos', 'dias']\n",
      "{'dias', 'muy', 'estos', 'seran', 'buenos'}\n",
      "{'dias': 3, 'muy': 1, 'estos': 1, 'seran': 1, 'buenos': 3}\n"
     ]
    }
   ],
   "source": [
    "frase = list(input(\"Ingrese una frase: \").split())\n",
    "frase_set =set(frase)\n",
    "contador = {}\n",
    "\n",
    "for i in frase_set:\n",
    "    contador_num = 0\n",
    "    \n",
    "    for j in frase:\n",
    "        if j == i:\n",
    "            contador_num += 1            \n",
    "    \n",
    "    contador[i] = contador_num\n",
    "\n",
    "print(frase)\n",
    "print(frase_set)\n",
    "print(contador)"
   ]
  },
  {
   "cell_type": "markdown",
   "id": "43afda8f",
   "metadata": {},
   "source": [
    "6) Permití ingresar los nombres de 3 alumnos, y para cada uno una tupla de 3 notas. Luego, mostrá el promedio de cada alumno."
   ]
  },
  {
   "cell_type": "code",
   "execution_count": 28,
   "id": "827b397d",
   "metadata": {},
   "outputs": [
    {
     "name": "stdout",
     "output_type": "stream",
     "text": [
      "{'Lucia': (5, 8, 4), 'Pedro': (2, 9, 9), 'Gabriel': (1, 7, 9)}\n",
      "{'Lucia': 5.666666666666667, 'Pedro': 6.666666666666667, 'Gabriel': 5.666666666666667}\n"
     ]
    }
   ],
   "source": [
    "alumnos = {}\n",
    "\n",
    "for i in range(3):\n",
    "    alumno = input(\"Ingrese el nombre del alumno\")\n",
    "    nota1 = int(input(\"Ingrese nota 1: \"))\n",
    "    nota2 = int(input(\"Ingrese nota 2: \"))\n",
    "    nota3 = int(input(\"Ingrese nota 3: \"))\n",
    "    alumnos[alumno] = nota1, nota2, nota3\n",
    "\n",
    "print(alumnos)\n",
    "\n",
    "promedios = {}\n",
    "for i, j in alumnos.items():\n",
    "    sumador = 0\n",
    "    for k in j:\n",
    "        sumador += k\n",
    "    promedios[i] = sumador / 3\n",
    "\n",
    "print(promedios)"
   ]
  },
  {
   "cell_type": "markdown",
   "id": "09edec6d",
   "metadata": {},
   "source": [
    "7) Dado dos sets de números, representando dos listas de estudiantes que aprobaron Parcial 1 y Parcial 2:\n",
    "* Mostrá los que aprobaron ambos parciales.\n",
    "* Mostrá los que aprobaron solo uno de los dos.\n",
    "* Mostrá la lista total de estudiantes que aprobaron al menos un parcial (sin repetir)."
   ]
  },
  {
   "cell_type": "code",
   "execution_count": 30,
   "id": "2a4aeba2",
   "metadata": {},
   "outputs": [
    {
     "name": "stdout",
     "output_type": "stream",
     "text": [
      "Aprobados en ambos parciales: {'Sofía', 'Luis'}\n",
      "Aprobados en solo uno de los dos: {'Juan', 'Carla', 'Valeria', 'Ana', 'Marcos', 'Tomás'}\n",
      "Aprobados en al menos un parcial: {'Carla', 'Marcos', 'Sofía', 'Valeria', 'Juan', 'Ana', 'Tomás', 'Luis'}\n"
     ]
    }
   ],
   "source": [
    "parcial1 = {\"Ana\", \"Luis\", \"Juan\", \"Sofía\", \"Marcos\"}\n",
    "parcial2 = {\"Luis\", \"Sofía\", \"Valeria\", \"Tomás\", \"Carla\"}\n",
    "\n",
    "ambos = parcial1 & parcial2\n",
    "print(\"Aprobados en ambos parciales:\", ambos)\n",
    "\n",
    "solo_uno = parcial1 ^ parcial2\n",
    "print(\"Aprobados en solo uno de los dos:\", solo_uno)\n",
    "\n",
    "al_menos_uno = parcial1 | parcial2\n",
    "print(\"Aprobados en al menos un parcial:\", al_menos_uno)\n"
   ]
  },
  {
   "cell_type": "markdown",
   "id": "994f6842",
   "metadata": {},
   "source": [
    "8) Armá un diccionario donde las claves sean nombres de productos y los valores su stock. Permití al usuario:\n",
    "* Consultar el stock de un producto ingresado.\n",
    "* Agregar unidades al stock si el producto ya existe.\n",
    "* Agregar un nuevo producto si no existe."
   ]
  },
  {
   "cell_type": "code",
   "execution_count": 33,
   "id": "3a1ed486",
   "metadata": {},
   "outputs": [
    {
     "name": "stdout",
     "output_type": "stream",
     "text": [
      "Stock actual de 'jabon': 35 unidades\n",
      "Nuevo stock de 'jabon': 50 unidades\n",
      "{'shampoo': 20, 'jabon': 50, 'cepillo': 15}\n"
     ]
    }
   ],
   "source": [
    "stock_productos = {\n",
    "    \"shampoo\": 20,\n",
    "    \"jabon\": 35,\n",
    "    \"cepillo\": 15\n",
    "}\n",
    "\n",
    "producto = input(\"Ingresar el nombre del producto: \")\n",
    "\n",
    "if producto in stock_productos:\n",
    "    print(f\"Stock actual de '{producto}': {stock_productos[producto]} unidades\")\n",
    "    \n",
    "    agregar = input(\"¿Desea agregar unidades al stock? (s/n): \")\n",
    "    if agregar == \"s\":\n",
    "        cantidad = int(input(\"¿Cuantas unidades desea agregar?: \"))\n",
    "        stock_productos[producto] += cantidad\n",
    "        print(f\"Nuevo stock de '{producto}': {stock_productos[producto]} unidades\")\n",
    "        \n",
    "else:\n",
    "    print(f\"'{producto}' no existe en el inventario.\")\n",
    "    agregar_nuevo = input(\"¿Querés agregarlo como nuevo producto? (s/n): \").strip().lower()\n",
    "    if agregar_nuevo == \"s\":\n",
    "        cantidad = int(input(\"¿Cuántas unidades querés agregar?: \"))\n",
    "        stock_productos[producto] = cantidad\n",
    "        print(f\"Producto '{producto}' agregado con {cantidad} unidades.\")\n",
    "\n",
    "print(stock_productos)"
   ]
  },
  {
   "cell_type": "markdown",
   "id": "b0974d88",
   "metadata": {},
   "source": [
    "9) Creá una agenda donde las claves sean tuplas de (día, hora) y los valores sean eventos."
   ]
  },
  {
   "cell_type": "code",
   "execution_count": 34,
   "id": "cadf4e63",
   "metadata": {},
   "outputs": [
    {
     "name": "stdout",
     "output_type": "stream",
     "text": [
      "Agenda actual: \n",
      "lunes a las 10:00 → Reunion\n",
      "martes a las 15:00 → Clase de ingles\n",
      "Evento agregado: miercoles a las 10:00 → estudiar programacion\n",
      "Agenda actualizada:\n",
      "lunes a las 10:00 → Reunion\n",
      "martes a las 15:00 → Clase de ingles\n",
      "miercoles a las 10:00 → estudiar programacion\n"
     ]
    }
   ],
   "source": [
    "agenda = {\n",
    "    (\"lunes\", \"10:00\"): \"Reunion\",\n",
    "    (\"martes\", \"15:00\"): \"Clase de ingles\"\n",
    "}\n",
    "\n",
    "# Ver la agenda\n",
    "print(\"Agenda actual: \")\n",
    "for (dia, hora), evento in agenda.items():\n",
    "    print(f\"{dia} a las {hora} → {evento}\")\n",
    "\n",
    "# Consultar un evento específico\n",
    "dia = input(\"Ingresar un dia: \")\n",
    "hora = input(\"Ingresá una hora (formato HH:MM): \")\n",
    "\n",
    "clave = (dia, hora)\n",
    "\n",
    "if clave in agenda:\n",
    "    print(f\"Evento agendado: {agenda[clave]}\")\n",
    "else:\n",
    "    agregar = input(\"No hay evento en ese horario. ¿Desea agregar uno? (s/n): \")\n",
    "    if agregar == \"s\":\n",
    "        nuevo_evento = input(\"¿Que evento se va a agregar?: \")\n",
    "        agenda[clave] = nuevo_evento\n",
    "        print(f\"Evento agregado: {dia} a las {hora} → {nuevo_evento}\")\n",
    "\n",
    "# Mostrar agenda actualizada\n",
    "print(\"Agenda actualizada:\")\n",
    "for (dia, hora), evento in agenda.items():\n",
    "    print(f\"{dia} a las {hora} → {evento}\")\n"
   ]
  },
  {
   "cell_type": "markdown",
   "id": "68b839b6",
   "metadata": {},
   "source": [
    "10) Dado un diccionario que mapea nombres de países con sus capitales, construí un nuevo diccionario donde:\n",
    "* Las capitales sean las claves.\n",
    "* Los países sean los valores."
   ]
  },
  {
   "cell_type": "code",
   "execution_count": 35,
   "id": "f4ed808e",
   "metadata": {},
   "outputs": [
    {
     "name": "stdout",
     "output_type": "stream",
     "text": [
      "Diccionario original:\n",
      "{'Argentina': 'Buenos Aires', 'Chile': 'Santiago', 'Brasil': 'Brasilia', 'Uruguay': 'Montevideo'}\n",
      "Diccionario invertido:\n",
      "{'Buenos Aires': 'Argentina', 'Santiago': 'Chile', 'Brasilia': 'Brasil', 'Montevideo': 'Uruguay'}\n"
     ]
    }
   ],
   "source": [
    "original = {\n",
    "    \"Argentina\": \"Buenos Aires\",\n",
    "    \"Chile\": \"Santiago\",\n",
    "    \"Brasil\": \"Brasilia\",\n",
    "    \"Uruguay\": \"Montevideo\"\n",
    "}\n",
    "\n",
    "invertido = {}\n",
    "\n",
    "for pais, capital in original.items():\n",
    "    invertido[capital] = pais\n",
    "\n",
    "print(\"Diccionario original:\")\n",
    "print(original)\n",
    "\n",
    "print(\"Diccionario invertido:\")\n",
    "print(invertido)\n"
   ]
  }
 ],
 "metadata": {
  "kernelspec": {
   "display_name": "venv",
   "language": "python",
   "name": "python3"
  },
  "language_info": {
   "codemirror_mode": {
    "name": "ipython",
    "version": 3
   },
   "file_extension": ".py",
   "mimetype": "text/x-python",
   "name": "python",
   "nbconvert_exporter": "python",
   "pygments_lexer": "ipython3",
   "version": "3.10.12"
  }
 },
 "nbformat": 4,
 "nbformat_minor": 5
}
