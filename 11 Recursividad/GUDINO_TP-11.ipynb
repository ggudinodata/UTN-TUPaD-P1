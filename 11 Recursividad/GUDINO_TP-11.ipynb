{
 "cells": [
  {
   "cell_type": "markdown",
   "id": "3b69c66b",
   "metadata": {},
   "source": [
    "## Práctico 11: Aplicación de la Recursividad"
   ]
  },
  {
   "cell_type": "markdown",
   "id": "a5226991",
   "metadata": {},
   "source": [
    "1) Crea una función recursiva que calcule el factorial de un número. Luego, utiliza esa función para calcular y mostrar en pantalla el factorial de todos los números enteros entre 1 y el número que indique el usuario"
   ]
  },
  {
   "cell_type": "code",
   "execution_count": 6,
   "id": "ab507bea",
   "metadata": {},
   "outputs": [
    {
     "name": "stdout",
     "output_type": "stream",
     "text": [
      "1\n",
      "2\n",
      "6\n",
      "24\n"
     ]
    },
    {
     "data": {
      "text/plain": [
       "24"
      ]
     },
     "execution_count": 6,
     "metadata": {},
     "output_type": "execute_result"
    }
   ],
   "source": [
    "def factorial(num):\n",
    "    # caso base\n",
    "    if num == 0:\n",
    "        fact = 1\n",
    "    else:\n",
    "        fact = factorial(num-1) * num\n",
    "        print(fact)\n",
    "    return fact\n",
    "\n",
    "factorial(4)"
   ]
  },
  {
   "cell_type": "markdown",
   "id": "0299cbfe",
   "metadata": {},
   "source": [
    "2) Crea una función recursiva que calcule el valor de la serie de Fibonacci en la posición indicada. Posteriormente, muestra la serie completa hasta la posición que el usuario especifique."
   ]
  },
  {
   "cell_type": "code",
   "execution_count": 17,
   "id": "64138430",
   "metadata": {},
   "outputs": [
    {
     "name": "stdout",
     "output_type": "stream",
     "text": [
      "Serie completa:\n",
      "Posición 0: 0\n",
      "Posición 1: 1\n",
      "Posición 2: 1\n",
      "Posición 3: 2\n",
      "Posición 4: 3\n",
      "Posición 5: 5\n"
     ]
    }
   ],
   "source": [
    "def fibonacci(pos):\n",
    "    if pos == 0:\n",
    "        fibo = 0\n",
    "    elif pos == 1:\n",
    "        fibo = 1\n",
    "    else:\n",
    "        fibo = fibonacci(pos - 1) + fibonacci(pos -2)\n",
    "    return fibo\n",
    "\n",
    "if __name__ == \"__main__\":\n",
    "    posicion = int(input(\"Ingrese el valor de la Posición: \"))\n",
    "    print(\"Serie completa:\")\n",
    "    for i in range(posicion + 1):\n",
    "        print(f\"Posición {i}: {fibonacci(i)}\")"
   ]
  },
  {
   "cell_type": "markdown",
   "id": "8fef1208",
   "metadata": {},
   "source": [
    "3) Crea una función recursiva que calcule la potencia de un número base elevado a un exponente, utilizando la fórmula \n",
    "$\\ n^m = n \\times n^{(m-1)}$\n",
    ". Prueba esta función en un algoritmo general."
   ]
  },
  {
   "cell_type": "code",
   "execution_count": 29,
   "id": "00f04440",
   "metadata": {},
   "outputs": [
    {
     "data": {
      "text/plain": [
       "27"
      ]
     },
     "execution_count": 29,
     "metadata": {},
     "output_type": "execute_result"
    }
   ],
   "source": [
    "def potencia(base, exp):\n",
    "    if exp == 1:\n",
    "        res = base\n",
    "    elif exp == 0:\n",
    "        res = 1\n",
    "    else:\n",
    "        res = base * potencia(base, exp-1)\n",
    "    return res\n",
    "\n",
    "potencia(3, 3)"
   ]
  },
  {
   "cell_type": "markdown",
   "id": "1ac1958b",
   "metadata": {},
   "source": [
    "4) Crear una función recursiva en Python que reciba un número entero positivo en base decimal y devuelva su representación en binario como una cadena de texto."
   ]
  },
  {
   "cell_type": "code",
   "execution_count": 49,
   "id": "27b4dc2e",
   "metadata": {},
   "outputs": [
    {
     "name": "stdout",
     "output_type": "stream",
     "text": [
      "10\n",
      "101\n",
      "1010\n",
      "10100\n"
     ]
    },
    {
     "data": {
      "text/plain": [
       "'10100'"
      ]
     },
     "execution_count": 49,
     "metadata": {},
     "output_type": "execute_result"
    }
   ],
   "source": [
    "def convertir_bin(entero):\n",
    "    if entero <= 1:\n",
    "        binario = str(entero)\n",
    "    else:\n",
    "        binario = convertir_bin(entero // 2) + str(entero % 2)\n",
    "        print(binario)\n",
    "    return binario\n",
    "\n",
    "convertir_bin(20)       "
   ]
  },
  {
   "cell_type": "markdown",
   "id": "87b51309",
   "metadata": {},
   "source": [
    "5) Implementá una función recursiva llamada es_palindromo(palabra) que reciba una cadena de texto sin espacios ni tildes, y devuelva True si es un palíndromo o False si no lo es."
   ]
  },
  {
   "cell_type": "code",
   "execution_count": 19,
   "id": "418e309f",
   "metadata": {},
   "outputs": [
    {
     "name": "stdout",
     "output_type": "stream",
     "text": [
      "Es palindromo la palabra ecole?: False\n",
      "Es palindromo la palabra econoce?: True\n"
     ]
    }
   ],
   "source": [
    "def es_palindromo(palabra):\n",
    "    if len(palabra) <= 1:\n",
    "        return True\n",
    "    elif palabra[0] != palabra[-1]:\n",
    "        return False\n",
    "    else:\n",
    "        return es_palindromo(palabra[1:-1])\n",
    "\n",
    "print(f\"Es palindromo la palabra ecole?: { es_palindromo('ecole') }\")\n",
    "print(f\"Es palindromo la palabra econoce?: {es_palindromo('econoce')}\")"
   ]
  },
  {
   "cell_type": "markdown",
   "id": "ebe182f6",
   "metadata": {},
   "source": [
    "6) Escribí una función recursiva en Python llamada suma_digitos(n) que reciba un número entero positivo y devuelva la suma de todos sus dígitos."
   ]
  },
  {
   "cell_type": "code",
   "execution_count": 55,
   "id": "bf149d85",
   "metadata": {},
   "outputs": [
    {
     "data": {
      "text/plain": [
       "18"
      ]
     },
     "execution_count": 55,
     "metadata": {},
     "output_type": "execute_result"
    }
   ],
   "source": [
    "def suma_digitos(n):\n",
    "    if n < 10:\n",
    "        return n\n",
    "    else:\n",
    "        suma = suma_digitos(n // 10)\n",
    "        resto = (n % 10)\n",
    "    return suma + resto\n",
    "    \n",
    "suma_digitos(5234)"
   ]
  },
  {
   "cell_type": "markdown",
   "id": "e7ecfc28",
   "metadata": {},
   "source": [
    "7) Un niño está construyendo una pirámide con bloques. En el nivel más bajo coloca n bloques, en el siguiente nivel uno menos (n - 1), y así sucesivamente hasta llegar al último nivel con un solo bloque."
   ]
  },
  {
   "cell_type": "code",
   "execution_count": 50,
   "id": "e5ef5f84",
   "metadata": {},
   "outputs": [
    {
     "data": {
      "text/plain": [
       "6"
      ]
     },
     "execution_count": 50,
     "metadata": {},
     "output_type": "execute_result"
    }
   ],
   "source": [
    "def contar_bloques(n):\n",
    "    if n <= 1:\n",
    "        return n\n",
    "    else:\n",
    "        resta = contar_bloques(n-1) + n\n",
    "        return resta\n",
    "    \n",
    "contar_bloques(3)"
   ]
  },
  {
   "cell_type": "markdown",
   "id": "10277f37",
   "metadata": {},
   "source": [
    "8) Escribí una función recursiva llamada contar_digito(numero, digito) que reciba un número entero positivo (numero) y un dígito (entre 0 y 9), y devuelva cuántas veces aparece ese dígito dentro del número."
   ]
  },
  {
   "cell_type": "code",
   "execution_count": 70,
   "id": "69e59d40",
   "metadata": {},
   "outputs": [
    {
     "data": {
      "text/plain": [
       "0"
      ]
     },
     "execution_count": 70,
     "metadata": {},
     "output_type": "execute_result"
    }
   ],
   "source": [
    "def contar_digito(num, digito):\n",
    "    if num < 10:\n",
    "        if digito == num:\n",
    "            return 1\n",
    "        else:\n",
    "            return 0\n",
    "    else:\n",
    "        suma = contar_digito(num // 10, digito) \n",
    "        resto = (num % 10)\n",
    "        if resto == digito:\n",
    "            return 1 + suma\n",
    "        else:\n",
    "            return 0 + suma\n",
    "\n",
    "contar_digito(123456, 7)"
   ]
  }
 ],
 "metadata": {
  "kernelspec": {
   "display_name": "venv",
   "language": "python",
   "name": "python3"
  },
  "language_info": {
   "codemirror_mode": {
    "name": "ipython",
    "version": 3
   },
   "file_extension": ".py",
   "mimetype": "text/x-python",
   "name": "python",
   "nbconvert_exporter": "python",
   "pygments_lexer": "ipython3",
   "version": "3.10.12"
  }
 },
 "nbformat": 4,
 "nbformat_minor": 5
}
